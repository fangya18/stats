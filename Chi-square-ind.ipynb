{
 "cells": [
  {
   "cell_type": "markdown",
   "metadata": {},
   "source": [
    "### Chi-square application\n",
    "#### Test Independence of Two Categorical Variables\n",
    "\n",
    "We use the Chi-Square test of Independence to check if two categorical variables are independent, or have a strong association."
   ]
  },
  {
   "cell_type": "code",
   "execution_count": 27,
   "metadata": {},
   "outputs": [],
   "source": [
    "import numpy as np\n",
    "import matplotlib.pyplot as plt\n",
    "from scipy import stats\n",
    "import seaborn as sns\n",
    "import pandas as pd"
   ]
  },
  {
   "cell_type": "markdown",
   "metadata": {},
   "source": [
    "#### Example 1  Ice-cream Favor VS. Buyer’s Gender\n",
    "We want to see if there is a preference for ice-cream favor based on the gender of people buying it.\n",
    "\n",
    "Total Gender Strawberry Chocolate Vanilla Green Tea \n",
    "\n",
    "380   Men    80         120       120     60 \n",
    "\n",
    "620   Women  50         200       250     120\n",
    "\n",
    "#### H0 (Null Hypothesis): The preference for Ice-Cream Favor and Buyer’s Gender are Independent.\n",
    "\n"
   ]
  },
  {
   "cell_type": "code",
   "execution_count": 9,
   "metadata": {},
   "outputs": [
    {
     "data": {
      "text/plain": [
       "(37.137895372190783,\n",
       " 4.3024105488775266e-08,\n",
       " 3,\n",
       " array([[  68.4,  140.6,  121.6,   49.4],\n",
       "        [ 111.6,  229.4,  198.4,   80.6]]))"
      ]
     },
     "execution_count": 9,
     "metadata": {},
     "output_type": "execute_result"
    }
   ],
   "source": [
    "favor_gender=np.array([[60,120,120,80],[120,250,200,50]])\n",
    "stats.chi2_contingency(favor_gender)\n"
   ]
  },
  {
   "cell_type": "markdown",
   "metadata": {},
   "source": [
    "#### Result\n",
    "We see the p-value is 4.3e-08, which is significantly < 0.05. So we Reject the Null Hypotheses and Conclude the Ice-Cream Favor is dependent on the buyer’s Gender. Note: If if the total count is < 5 the result might be biased, and if it is 2 x 2 table (2 categorical variables with 2 observations) we will proceed with Fisher’s Exact Test."
   ]
  },
  {
   "cell_type": "markdown",
   "metadata": {},
   "source": [
    "#### Data Visualization"
   ]
  },
  {
   "cell_type": "code",
   "execution_count": 21,
   "metadata": {},
   "outputs": [],
   "source": [
    "boyn=[60,120,120,80]\n",
    "girlsn=[120,250,200,50]"
   ]
  },
  {
   "cell_type": "code",
   "execution_count": 26,
   "metadata": {},
   "outputs": [
    {
     "data": {
      "image/png": "[encoded data removed]",
      "text/plain": [
       "<matplotlib.figure.Figure at 0xc982b38>"
      ]
     },
     "metadata": {},
     "output_type": "display_data"
    }
   ],
   "source": [
    "fig=plt.figure(figsize=(10,5))\n",
    "favors=[\"Green Tea\", \"Vanilla\", \"Chocolate\", \"Strawberry\" ]\n",
    "p1=plt.bar(favors,boyn)\n",
    "p2=plt.bar(favors,girlsn, bottom=boyn)\n",
    "plt.legend((p2[0],p1[0]),(\"Girl's Choice\", \"Boy's Choice\"))\n",
    "plt.xlabel(\"Ice-Cream Favors\")\n",
    "plt.ylabel(\"Buyer's Count\")\n",
    "plt.title(\"Ice-Cream Favor and Gender Count\")\n",
    "plt.show()"
   ]
  },
  {
   "cell_type": "code",
   "execution_count": null,
   "metadata": {
    "collapsed": true
   },
   "outputs": [],
   "source": []
  },
  {
   "cell_type": "code",
   "execution_count": null,
   "metadata": {
    "collapsed": true
   },
   "outputs": [],
   "source": []
  },
  {
   "cell_type": "code",
   "execution_count": null,
   "metadata": {
    "collapsed": true
   },
   "outputs": [],
   "source": []
  }
 ],
 "metadata": {
  "kernelspec": {
   "display_name": "Python 3",
   "language": "python",
   "name": "python3"
  },
  "language_info": {
   "codemirror_mode": {
    "name": "ipython",
    "version": 3
   },
   "file_extension": ".py",
   "mimetype": "text/x-python",
   "name": "python",
   "nbconvert_exporter": "python",
   "pygments_lexer": "ipython3",
   "version": "3.6.3"
  }
 },
 "nbformat": 4,
 "nbformat_minor": 2
}
