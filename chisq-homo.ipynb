{
 "cells": [
  {
   "cell_type": "markdown",
   "metadata": {},
   "source": [
    "#### Chi-square test for HOMOGENEITY\n",
    "\n",
    "Test for Homogeneity of One Categorical Variable across serveral sample spaces.\n",
    "\n",
    "We use the Chi-square test for Homogeneity to evaluate if one single categorical variable has a similar distribution (or frequency proportion)across two or more sample spaces (or populations).\n",
    "\n",
    "#### Example: \n",
    "Couple make-up companies wish to determine if there are differences in the sales market for China, USA, and Spain.\n",
    "     \n",
    "    china  usa  spain\n",
    "buy 10000 2000  1000\n",
    "\n",
    "no  2013  391   212\n",
    "\n",
    "#### H0(Null Hypotheses): \n",
    "The sales market has the same distribution (frequency proportion) in China, USA, and Spain."
   ]
  },
  {
   "cell_type": "code",
   "execution_count": 1,
   "metadata": {
    "collapsed": true
   },
   "outputs": [],
   "source": [
    "import numpy as np\n",
    "import matplotlib.pyplot as plt\n",
    "from scipy import stats\n",
    "import seaborn as sns\n",
    "import pandas as pd"
   ]
  },
  {
   "cell_type": "code",
   "execution_count": 28,
   "metadata": {},
   "outputs": [
    {
     "data": {
      "text/plain": [
       "(0.74875312161643293,\n",
       " 0.68771789545779449,\n",
       " 2,\n",
       " array([[ 10000.57633197,   2012.42366803],\n",
       "        [  1990.4585041 ,    400.5414959 ],\n",
       "        [  1008.96516393,    203.03483607]]))"
      ]
     },
     "execution_count": 28,
     "metadata": {},
     "output_type": "execute_result"
    }
   ],
   "source": [
    "country_buyer=np.array([[10000,2013],[2000,391],[1000,212]])\n",
    "stats.chi2_contingency(country_buyer)"
   ]
  },
  {
   "cell_type": "markdown",
   "metadata": {},
   "source": [
    "#### Result\n",
    "We have p-value= 0.69, so we accept the Null Hypotheses and conclude the Make up customer distribution is the same in China, USA and Spain."
   ]
  },
  {
   "cell_type": "markdown",
   "metadata": {},
   "source": [
    "#### Data visualization"
   ]
  },
  {
   "cell_type": "code",
   "execution_count": 29,
   "metadata": {},
   "outputs": [
    {
     "data": {
      "image/png": "[encoded data removed]",
      "text/plain": [
       "<matplotlib.figure.Figure at 0xcb66c18>"
      ]
     },
     "metadata": {},
     "output_type": "display_data"
    }
   ],
   "source": [
    "yes=[10000,2000,1000]\n",
    "no=[2013,391,212]\n",
    "\n",
    "fig, ax=plt.subplots()\n",
    "index=np.arange(3)\n",
    "bar_width=0.35\n",
    "opacity=0.6\n",
    "\n",
    "r1=ax.bar(index, yes, bar_width, alpha=opacity , label=\"Buy\")\n",
    "r2=ax.bar(index+bar_width, no, bar_width, alpha=opacity , label=\"Not Buy\")\n",
    "\n",
    "ax.set_xlabel('Country')\n",
    "ax.set_ylabel('Customer Counts')\n",
    "ax.set_title('Make up customer by Country')\n",
    "ax.set_xticks(index + bar_width / 2)\n",
    "ax.set_xticklabels(('China', 'USA', 'Spain'))\n",
    "ax.legend()\n",
    "\n",
    "fig.tight_layout()\n",
    "\n",
    "plt.show()"
   ]
  },
  {
   "cell_type": "code",
   "execution_count": null,
   "metadata": {},
   "outputs": [],
   "source": [
    "\n",
    "\n"
   ]
  },
  {
   "cell_type": "code",
   "execution_count": null,
   "metadata": {},
   "outputs": [],
   "source": []
  },
  {
   "cell_type": "code",
   "execution_count": null,
   "metadata": {},
   "outputs": [],
   "source": []
  },
  {
   "cell_type": "code",
   "execution_count": null,
   "metadata": {
    "collapsed": true
   },
   "outputs": [],
   "source": []
  },
  {
   "cell_type": "code",
   "execution_count": null,
   "metadata": {
    "collapsed": true
   },
   "outputs": [],
   "source": []
  }
 ],
 "metadata": {
  "kernelspec": {
   "display_name": "Python 3",
   "language": "python",
   "name": "python3"
  },
  "language_info": {
   "codemirror_mode": {
    "name": "ipython",
    "version": 3
   },
   "file_extension": ".py",
   "mimetype": "text/x-python",
   "name": "python",
   "nbconvert_exporter": "python",
   "pygments_lexer": "ipython3",
   "version": "3.6.3"
  }
 },
 "nbformat": 4,
 "nbformat_minor": 2
}
